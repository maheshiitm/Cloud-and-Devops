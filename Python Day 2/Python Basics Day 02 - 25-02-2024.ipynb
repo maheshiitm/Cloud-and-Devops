{
 "cells": [
  {
   "cell_type": "code",
   "execution_count": null,
   "id": "027814cb",
   "metadata": {},
   "outputs": [],
   "source": [
    "# Datatypes :\n",
    "\n",
    "# -> type of data the varaible has been assigned with.\n",
    "# -> There are two types of data types :\n",
    "#     1. Universal Datatype/ Basic DataType : int, float, char/str, bool\n",
    "#     2. Collective Data Type : string, tuple, list, dictionary, set"
   ]
  },
  {
   "cell_type": "code",
   "execution_count": null,
   "id": "a77dba50",
   "metadata": {},
   "outputs": [],
   "source": [
    "# Collective Datatype :\n",
    "\n",
    "# -> Collection of values\n",
    "# -> These collective datatypes can be further divided into two categories :\n",
    "#     1. Mutable Datatype : values once assigned can be altered even after declaration. Eg: List, Dictionary, Set\n",
    "#     2. Immutable Datatype : values once assigned can't be altered after declaration. Eg: String, Tuple"
   ]
  },
  {
   "cell_type": "code",
   "execution_count": 22,
   "id": "99220419",
   "metadata": {},
   "outputs": [
    {
     "name": "stdout",
     "output_type": "stream",
     "text": [
      "Hello\n",
      "Learners\n",
      "Hello Learners\n",
      "5\n",
      "8\n",
      "<class 'str'>\n",
      "<class 'str'>\n"
     ]
    }
   ],
   "source": [
    "# Strings :\n",
    "\n",
    "# -> collection of characters.\n",
    "# SYNTAX : \n",
    "#     varaiable_name = \"string\"\n",
    "#     varaiable_name = 'string'\n",
    "\n",
    "s1 = \"Hello\"\n",
    "s2 = \"Learners\"\n",
    "print(s1)\n",
    "print(s2)\n",
    "\n",
    "print(s1,s2)\n",
    "\n",
    "# len() : return the number of elements present in the collective data type.\n",
    "\n",
    "print(len(s1))\n",
    "print(len(s2))\n",
    "\n",
    "# type() : returns the type of data the variable is holding.\n",
    "\n",
    "print(type(s1))\n",
    "print(type(s2))\n",
    "\n",
    "# str' object does not support item assignment\n",
    "# s1[4] = \"a\""
   ]
  },
  {
   "cell_type": "code",
   "execution_count": 11,
   "id": "6d030e07",
   "metadata": {},
   "outputs": [
    {
     "name": "stdout",
     "output_type": "stream",
     "text": [
      "E\n",
      "E\n",
      "INTEL\n"
     ]
    }
   ],
   "source": [
    "# Indexing and Slicing :\n",
    "\n",
    "# Indexing : process of accessing an element from the collection.\n",
    "#     Index : positional value of an element.\n",
    "# SYNTAX :\n",
    "#     variable_name[index_number]\n",
    "\n",
    "# There are two types of indexing :\n",
    "# 1. Forward Indexing/ Regular Indexing : starts from left to right with a zero '0'\n",
    "# 2. Reverse Indexing/ Negative Indexing : starts from right to left with a -1\n",
    "\n",
    "s3 = \"INTELLIPAAT\"\n",
    "\n",
    "# 0     1     2     3     4     5     6     7     8     9     10   -----> Forward Indexing\n",
    "# I     N     T     E     L     L     I     P     A     A     T\n",
    "# -11  -10   -9    -8    -7    -6    -5    -4    -3    -2     -1   ------> Reverse Indexing\n",
    "\n",
    "print(s3[3])\n",
    "print(s3[-8])\n",
    "\n",
    "# Slicing : process of extracting multiple elements in a sequence from a collection\n",
    "# SYNTAX:\n",
    "#     variable_name[start_index : end_index + 1]\n",
    "\n",
    "print(s3[0:5])"
   ]
  },
  {
   "cell_type": "code",
   "execution_count": 20,
   "id": "a6a20657",
   "metadata": {},
   "outputs": [
    {
     "name": "stdout",
     "output_type": "stream",
     "text": [
      "(1, 2, 3, 'Python', 23.45, 'Avinash', 4, True)\n",
      "8\n",
      "<class 'tuple'>\n",
      "3\n",
      "(1, 2, 3, 'Python')\n"
     ]
    }
   ],
   "source": [
    "# Tuple :\n",
    "\n",
    "# -> Its is a immutable collective datatype\n",
    "# -> It is a collection of heterogenous element(elements with different datatypes).\n",
    "\n",
    "# SYNTAX :\n",
    "#     varaible_name = (elements separated by commas)\n",
    "\n",
    "t1 = (1,2,3,\"Python\",23.45,'Avinash',4, True)\n",
    "print(t1)\n",
    "\n",
    "print(len(t1))\n",
    "\n",
    "print(type(t1))\n",
    "\n",
    "print(t1[2])\n",
    "print(t1[0:4])\n",
    "\n",
    "# 'tuple' object does not support item assignment\n",
    "# t1[5] = \"Intellipaat\""
   ]
  },
  {
   "cell_type": "code",
   "execution_count": 35,
   "id": "3d293725",
   "metadata": {},
   "outputs": [
    {
     "name": "stdout",
     "output_type": "stream",
     "text": [
      "[1, 2, 3, 'Python', 23.45, 'Avinash', 4, True]\n",
      "<class 'list'>\n",
      "8\n",
      "Python\n",
      "[3, 'Python', 23.45]\n",
      "[1, 2, 3, 'Python', 23.45, 'Avinash', 4, True]\n",
      "[1, 2, 3, 'Python', 23.45, 'Intellipaat', 4, True]\n",
      "[1, 2, 3, 'Python', 23.45, 'Intellipaat', 4, True, 67]\n",
      "[1, 2, 3, 'Python', 23.45, 'Intellipaat', 4, True, 67, 'Live']\n",
      "[1, 2, 3, 'Java', 'Python', 23.45, 'Intellipaat', 4, True, 67, 'Live']\n",
      "[0, 1, 2, 3, 'Java', 'Python', 23.45, 'Intellipaat', 4, True, 67, 'Live']\n",
      "[0, 1, 2, 3, 'Python', 23.45, 'Intellipaat', 4, True, 67, 'Live']\n",
      "[0, 1, 2, 3, 'Python', 23.45, 'Intellipaat', 4, True, 67]\n"
     ]
    }
   ],
   "source": [
    "# List :\n",
    "\n",
    "# -> Its is a mutable collective datatype\n",
    "# -> It is a collection of heterogenous element(elements with different datatypes).\n",
    "# SYNTAX:\n",
    "#     varaible_name = [elements separated by commas]\n",
    "\n",
    "l1 = [1,2,3,\"Python\",23.45,'Avinash',4, True]\n",
    "print(l1)\n",
    "\n",
    "print(type(l1))\n",
    "print(len(l1))\n",
    "\n",
    "print(l1[3])\n",
    "print(l1[2:5])\n",
    "\n",
    "print(l1)\n",
    "\n",
    "# Lists are mutable data type\n",
    "l1[5] = \"Intellipaat\"\n",
    "print(l1)\n",
    "\n",
    "# Add a new value :\n",
    "\n",
    "# append(): listname.append(value) -> adds the value at the end of the list\n",
    "# insert(): listname.insert(index,value) \n",
    "\n",
    "l1.append(67)\n",
    "print(l1)\n",
    "l1.append(\"Live\")\n",
    "print(l1)\n",
    "\n",
    "l1.insert(3,\"Java\")\n",
    "print(l1)\n",
    "l1.insert(0,0)\n",
    "print(l1)\n",
    "\n",
    "# Remove a value :\n",
    "# pop() : listname.pop(index)\n",
    "# remove() : listname.remove(value)\n",
    "\n",
    "l1.pop(4)\n",
    "print(l1)\n",
    "l1.remove(\"Live\")\n",
    "print(l1)"
   ]
  },
  {
   "cell_type": "code",
   "execution_count": 46,
   "id": "ba77eef6",
   "metadata": {},
   "outputs": [
    {
     "name": "stdout",
     "output_type": "stream",
     "text": [
      "{1: 'Avinash', 'Intellipaat': 'Live Class', 12.45: 4000}\n",
      "<class 'dict'>\n",
      "dict_keys([1, 'Intellipaat', 12.45])\n",
      "dict_values(['Avinash', 'Live Class', 4000])\n",
      "{'Names': ['Harry', 'Avinash', 'Adi'], 'Post': ['CEO', 'Trainer', 'Intern']}\n",
      "{'Names': ['Harry', 'Avinash', 'Ahaan'], 'Post': ['CEO', 'Trainer', 'Intern']}\n",
      "['CEO', 'Trainer', 'Intern']\n",
      "{'Names': ['Harry', 'Avinash', 'Ahaan'], 'Post': ['CEO', 'Trainer', 'Intern'], 'Designation': ['CEO', 'Trainer', 'Intern']}\n",
      "{'Names': ['Harry', 'Avinash', 'Ahaan'], 'Designation': ['CEO', 'Trainer', 'Intern']}\n"
     ]
    }
   ],
   "source": [
    "# Dictionary :\n",
    "\n",
    "# -> Its is a mutable collective datatype\n",
    "# -> It is a collection of heterogenous element(elements with different datatypes).\n",
    "# -> It stores the data in the form of Key,Value pair.\n",
    "\n",
    "# SYNTAX :\n",
    "#     variable_name = {Key1:value1,key2:value2, ......... }\n",
    "\n",
    "# No order is maintained (Indexing and Slicing is not applicable)\n",
    "# Keys can't be of collective data type except for string.\n",
    "\n",
    "d1 = {1:\"Avinash\", \"Intellipaat\":\"Live Class\",12.45:4000}\n",
    "print(d1)\n",
    "\n",
    "print(type(d1))\n",
    "\n",
    "print(d1.keys())\n",
    "print(d1.values())\n",
    "\n",
    "d2 = {\"Names\": [\"Harry\", \"Avinash\", \"Adi\"], \"Post\" : [\"CEO\",\"Trainer\",\"Intern\"]}\n",
    "print(d2)\n",
    "\n",
    "d2[\"Names\"][2] = \"Ahaan\"\n",
    "print(d2)\n",
    "\n",
    "print(d2[\"Post\"])\n",
    "\n",
    "d2[\"Designation\"] = d2[\"Post\"]\n",
    "print(d2)\n",
    "\n",
    "del d2[\"Post\"]\n",
    "print(d2)"
   ]
  },
  {
   "cell_type": "code",
   "execution_count": 49,
   "id": "8338d27f",
   "metadata": {},
   "outputs": [
    {
     "name": "stdout",
     "output_type": "stream",
     "text": [
      "{0, 1, 2, 3, 'Python', 23.55, 'Avinash'}\n",
      "{0, 1, 2, 3, 'Python', 'Adi', 23.55, 'Avinash'}\n",
      "{0, 1, 2, 3, 'Python', 23.55, 'Avinash'}\n"
     ]
    }
   ],
   "source": [
    "# Set :\n",
    "\n",
    "# -> Unordered, unindexed list of elements\n",
    "# -> It is a collection of heterogenous element(elements with different datatypes).\n",
    "# -> It is a mutable data type\n",
    "\n",
    "# SYNTAX :\n",
    "#     variable_name = {elements separated by commas}\n",
    "\n",
    "\n",
    "s1 = {0,1,2,3,\"Python\",23.55,\"Avinash\"}\n",
    "print(s1)\n",
    "\n",
    "s1.add(\"Adi\")\n",
    "print(s1)\n",
    "\n",
    "s1.remove(\"Adi\")\n",
    "print(s1)"
   ]
  },
  {
   "cell_type": "code",
   "execution_count": null,
   "id": "5b4fbee8",
   "metadata": {},
   "outputs": [],
   "source": [
    "# Conditional Statements :\n",
    "\n",
    "# -> Based on the conditions evaluted the statements are executed.\n",
    "# There are three types of conditional statements :\n",
    "# 1. simple if statement\n",
    "# 2. if else statement\n",
    "# 3. if elif else statement."
   ]
  },
  {
   "cell_type": "code",
   "execution_count": 51,
   "id": "889f9244",
   "metadata": {},
   "outputs": [
    {
     "name": "stdout",
     "output_type": "stream",
     "text": [
      "A is greater than B\n"
     ]
    }
   ],
   "source": [
    "# simple if statement\n",
    "\n",
    "# SYNTAX:\n",
    "#     if(condition):\n",
    "#         statements to be executed if the condition is true\n",
    "\n",
    "# To check if a is greater than b\n",
    "\n",
    "a = 30\n",
    "b = 20\n",
    "if(a>b):\n",
    "    print(\"a is greater than b\")\n",
    "    \n",
    "a = 20\n",
    "b = 30\n",
    "if(a>b):\n",
    "    print(\"a is greater than b\")"
   ]
  },
  {
   "cell_type": "code",
   "execution_count": 52,
   "id": "1afb5380",
   "metadata": {},
   "outputs": [
    {
     "name": "stdout",
     "output_type": "stream",
     "text": [
      "A is greater than B\n",
      "A is not greater than B\n"
     ]
    }
   ],
   "source": [
    "# if else statement\n",
    "\n",
    "# SYNTAX:\n",
    "#     if(condition):\n",
    "#         statements to be executed if the condition is true\n",
    "#     else:\n",
    "#         statements to be executed if the condition is false\n",
    "\n",
    "# To check if a is greater than b\n",
    "a = 30\n",
    "b = 20\n",
    "if(a>b):\n",
    "    print(\"a is greater than b\")\n",
    "else:\n",
    "    print(\"a is not greater than b\")\n",
    "    \n",
    "a = 20\n",
    "b = 30\n",
    "if(a>b):\n",
    "    print(\"a is greater than b\")\n",
    "else:\n",
    "    print(\"a is not greater than b\")"
   ]
  },
  {
   "cell_type": "code",
   "execution_count": 59,
   "id": "19d116d5",
   "metadata": {},
   "outputs": [
    {
     "name": "stdout",
     "output_type": "stream",
     "text": [
      "a is equals to 50\n"
     ]
    }
   ],
   "source": [
    "# if elif else statement.\n",
    "\n",
    "# SYNTAX:\n",
    "#     if(condition):\n",
    "#         statements to be executed if the condition is true\n",
    "#     elif(condition2):\n",
    "#         statements to be executed if the condition2 is true\n",
    "#     elif(condition3):\n",
    "#         statements to be executed if the condition3 is true\n",
    "#     elif(condition4):\n",
    "#         statements to be executed if the condition4 is true\n",
    "#         .\n",
    "#         .\n",
    "#         .\n",
    "#         .\n",
    "#     else:\n",
    "#         statements to be executed if the condition is false\n",
    "\n",
    "# To check if a is greater than, less than or equal 50\n",
    "\n",
    "a = 50\n",
    "if(a > 50):\n",
    "    print(\"a is greater than 50\")\n",
    "elif(a<50):\n",
    "    print(\"a is less than 50\")\n",
    "else:\n",
    "    print(\"a is equals to 50\")"
   ]
  },
  {
   "cell_type": "code",
   "execution_count": 61,
   "id": "38cd133b",
   "metadata": {},
   "outputs": [],
   "source": [
    "# Looping Statements :\n",
    "\n",
    "# -> Statements that will allow us to perform the same set of tasks again and again\n",
    "\n",
    "# There are two type of looping statement in python :\n",
    "# 1. For Loop : works on range data.\n",
    "# 2. While Loop : works on conditional data."
   ]
  },
  {
   "cell_type": "code",
   "execution_count": 71,
   "id": "fa51f39a",
   "metadata": {},
   "outputs": [
    {
     "name": "stdout",
     "output_type": "stream",
     "text": [
      "Python\n",
      "Python\n",
      "Python\n",
      "Python\n",
      "Python\n"
     ]
    }
   ],
   "source": [
    "# For Loop:\n",
    "\n",
    "# SYNTAX for for loop:\n",
    "#     for iterating_varaible in range():\n",
    "#         tasks to be performed\n",
    "\n",
    "# range() : inbuilt functions that is used to create a range of defined values.\n",
    "# SYNTAX for range() :\n",
    "#     range(start, end+1)\n",
    "\n",
    "# range(0,10) -> 0,1,2,3,4,5,6,7,8,9\n",
    "\n",
    "# print(range(0,10))\n",
    "\n",
    "# for i in range(0,10):\n",
    "#     print(i)\n",
    "    \n",
    "# Print python 5 times \n",
    "\n",
    "for i in range(100,105):\n",
    "    print(\"Python\")"
   ]
  },
  {
   "cell_type": "code",
   "execution_count": 74,
   "id": "3d87bba0",
   "metadata": {},
   "outputs": [
    {
     "name": "stdout",
     "output_type": "stream",
     "text": [
      "Python\n",
      "Python\n",
      "Python\n",
      "Python\n",
      "Python\n"
     ]
    }
   ],
   "source": [
    "# While Loop :\n",
    "\n",
    "# SYNTAX : \n",
    "#     iterating_variable defination\n",
    "#     while(condition):\n",
    "#         tasks\n",
    "#         increments\n",
    "\n",
    "# Print python 5 times using while loop\n",
    "\n",
    "i = 0\n",
    "while(i < 5):\n",
    "    print(\"Python\")\n",
    "    i = i + 1\n",
    "    \n",
    "# i     i<5     print()     i=i+1\n",
    "# 0     True    Python      1\n",
    "# 1     True    Python      2\n",
    "# 2     True    Python      3\n",
    "# 3     True    Python      4\n",
    "# 4     True    Python      5\n",
    "# 5     Fasle -----> Exit the loop (Exit Condition)"
   ]
  },
  {
   "cell_type": "code",
   "execution_count": null,
   "id": "2618d459",
   "metadata": {},
   "outputs": [],
   "source": []
  }
 ],
 "metadata": {
  "kernelspec": {
   "display_name": "Python 3 (ipykernel)",
   "language": "python",
   "name": "python3"
  },
  "language_info": {
   "codemirror_mode": {
    "name": "ipython",
    "version": 3
   },
   "file_extension": ".py",
   "mimetype": "text/x-python",
   "name": "python",
   "nbconvert_exporter": "python",
   "pygments_lexer": "ipython3",
   "version": "3.11.5"
  }
 },
 "nbformat": 4,
 "nbformat_minor": 5
}
