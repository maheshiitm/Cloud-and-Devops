{
 "cells": [
  {
   "cell_type": "code",
   "execution_count": null,
   "id": "28accd39",
   "metadata": {},
   "outputs": [],
   "source": [
    "# Create a python if-else program to \n",
    "\n",
    "# a. check if the given numbers are greater or not, also\n",
    "# b. check whether the given number is an armstrong number or not, and \n",
    "# c. check whether the given number is a prime number or not. \n",
    "\n",
    "# Make use of python if-else, and elif statements for the same."
   ]
  },
  {
   "cell_type": "code",
   "execution_count": 8,
   "id": "82e1afb1",
   "metadata": {},
   "outputs": [
    {
     "name": "stdout",
     "output_type": "stream",
     "text": [
      "Enter a number to check if its a Prime number or not :14\n",
      "Its not a Prime Number\n"
     ]
    }
   ],
   "source": [
    "# Prime Number :\n",
    "\n",
    "# -> A whole number greater than 1 that can't be divided by any other whole number other than 1 and itself.\n",
    "\n",
    "# 13 -----> 2,3,4,5,6,7,8,9,10,11,12 ------->range(2,num)\n",
    "# 5 ------> 2,3,4 --------> range(2,num)\n",
    "# 14 -----> 2,3,4,5,6,7,8,9,10,11,12,13  -------> range(2,num)\n",
    "\n",
    "num = int(input(\"Enter a number to check if its a Prime number or not :\"))\n",
    "if(num > 1):\n",
    "    for i in range(2,num):\n",
    "        if(num % i == 0):\n",
    "            print(\"Its not a Prime Number\")\n",
    "            break\n",
    "    else:\n",
    "        print(\"Its a Prime Number\")\n",
    "else:\n",
    "    print(\"Its not a Prime Number\")"
   ]
  },
  {
   "cell_type": "code",
   "execution_count": 19,
   "id": "626f01f4",
   "metadata": {},
   "outputs": [
    {
     "name": "stdout",
     "output_type": "stream",
     "text": [
      "Enter the number of terms :-7\n",
      "ERROR : You are giving a wrong input, Please enter a positive number greater than zero\n"
     ]
    }
   ],
   "source": [
    "#  Create a fibonacci sequence using python if-else statements for n terms.\n",
    "\n",
    "# 0,1,1,2,3,5,8,...........\n",
    "\n",
    "nterms = int(input(\"Enter the number of terms :\"))\n",
    "n1 = 0\n",
    "n2 = 1\n",
    "count = 0\n",
    "\n",
    "if(nterms <= 0):\n",
    "    print(\"ERROR : You are giving a wrong input, Please enter a positive number greater than zero\")\n",
    "else:\n",
    "    while(count <= nterms):\n",
    "        print(n1)\n",
    "        nth = n1 + n2\n",
    "        n1 = n2\n",
    "        n2 = nth\n",
    "        count = count + 1\n",
    "\n",
    "# nterms = 5\n",
    "# while    print   nth    n1   n2    count\n",
    "#  True    0        1     1    1       1\n",
    "#  True    1        2     1    2       2\n",
    "#  True    1        3     2    3       3\n",
    "#  True    2        5     3    5       4\n",
    "#  True    3        8     5    8       5\n",
    "#  True    5        13    8    13      6\n",
    "#  False--------> Exit Condition\n",
    "\n",
    "# edge cases"
   ]
  },
  {
   "cell_type": "code",
   "execution_count": null,
   "id": "39bd6bd4",
   "metadata": {},
   "outputs": [],
   "source": [
    "# Create a nested dictionary with values as a nested list for each key in the dictionary\n",
    "\n",
    "d2 = {\"Names\": [\"Harry\", \"Avinash\", \"Adi\"], \"Post\" : [\"CEO\",\"Trainer\",\"Intern\"]}\n",
    "print(d2)"
   ]
  },
  {
   "cell_type": "code",
   "execution_count": 21,
   "id": "37cac904",
   "metadata": {},
   "outputs": [
    {
     "name": "stdout",
     "output_type": "stream",
     "text": [
      "{2, 3, 4, 5, 6, 'Avinash', 45.35}\n",
      "{1, 2, 3, 4, 'Python', 'Try'}\n"
     ]
    }
   ],
   "source": [
    "# Create two sets and perform the following:\n",
    "\n",
    "# a. Union of the two sets\n",
    "# b. Intersection of the two sets\n",
    "\n",
    "set1 = {2,3,4,5,6,\"Avinash\",45.35}\n",
    "set2 = {1,2,3,4,\"Python\", \"Try\"}\n",
    "\n",
    "print(set1)\n",
    "print(set2)"
   ]
  },
  {
   "cell_type": "code",
   "execution_count": 22,
   "id": "78a4b804",
   "metadata": {},
   "outputs": [
    {
     "data": {
      "text/plain": [
       "{1, 2, 3, 4, 45.35, 5, 6, 'Avinash', 'Python', 'Try'}"
      ]
     },
     "execution_count": 22,
     "metadata": {},
     "output_type": "execute_result"
    }
   ],
   "source": [
    "# All the elements \n",
    "set1.union(set2)"
   ]
  },
  {
   "cell_type": "code",
   "execution_count": 23,
   "id": "aa1c9034",
   "metadata": {},
   "outputs": [
    {
     "data": {
      "text/plain": [
       "{2, 3, 4}"
      ]
     },
     "execution_count": 23,
     "metadata": {},
     "output_type": "execute_result"
    }
   ],
   "source": [
    "# Common elements between both the sets\n",
    "set1.intersection(set2)"
   ]
  },
  {
   "cell_type": "code",
   "execution_count": 30,
   "id": "f0e9ae2a",
   "metadata": {},
   "outputs": [
    {
     "name": "stdout",
     "output_type": "stream",
     "text": [
      "{'k1': 23, 'k2': 'Avinash', 'k3': True}\n"
     ]
    },
    {
     "data": {
      "text/plain": [
       "(('k1', 23), ('k2', 'Avinash'), ('k3', True))"
      ]
     },
     "execution_count": 30,
     "metadata": {},
     "output_type": "execute_result"
    }
   ],
   "source": [
    "# Create a nested tuple from the dictionary, with each item in the tuple as a key value pair from the dictionary.\n",
    "\n",
    "d1 = {'k1' : 23, 'k2': \"Avinash\", 'k3' : True}\n",
    "print(d1)\n",
    "\n",
    "# items(): return all the key,value pair of a dictionary in a tuple\n",
    "d1.items()\n",
    "\n",
    "tuple(d1.items())"
   ]
  },
  {
   "cell_type": "code",
   "execution_count": 39,
   "id": "36a6a547",
   "metadata": {},
   "outputs": [
    {
     "name": "stdout",
     "output_type": "stream",
     "text": [
      "[2, 4, 6, 8, 10, 12, 14, 16, 18, 20, 22, 24, 26, 28, 30, 32, 34, 36, 38, 40, 42, 44, 46, 48, 50, 52, 54, 56, 58, 60, 62, 64, 66, 68, 70, 72, 74, 76, 78, 80, 82, 84, 86, 88, 90, 92, 94, 96, 98, 100]\n"
     ]
    }
   ],
   "source": [
    "# Create a list of the first 50 even natural numbers, and perform the following operations.\n",
    "\n",
    "# a. Count the number of elements in the list.\n",
    "# b. Reverse the sequence of the list.\n",
    "# c. Sort the list in ascending and descending order.\n",
    "# d. Get the index value for the element 44, and update the element with the number 100.\n",
    "# e. Return a copy of the list, with the resulting list containing the square of each element.\n",
    "\n",
    "l1=[]\n",
    "for i in range(1,101):\n",
    "    if(i%2 == 0):\n",
    "        l1.append(i)\n",
    "print(l1)"
   ]
  },
  {
   "cell_type": "code",
   "execution_count": 40,
   "id": "214cb21c",
   "metadata": {},
   "outputs": [
    {
     "data": {
      "text/plain": [
       "50"
      ]
     },
     "execution_count": 40,
     "metadata": {},
     "output_type": "execute_result"
    }
   ],
   "source": [
    "len(l1)"
   ]
  },
  {
   "cell_type": "code",
   "execution_count": 43,
   "id": "80946b50",
   "metadata": {},
   "outputs": [
    {
     "name": "stdout",
     "output_type": "stream",
     "text": [
      "[100, 98, 96, 94, 92, 90, 88, 86, 84, 82, 80, 78, 76, 74, 72, 70, 68, 66, 64, 62, 60, 58, 56, 54, 52, 50, 48, 46, 44, 42, 40, 38, 36, 34, 32, 30, 28, 26, 24, 22, 20, 18, 16, 14, 12, 10, 8, 6, 4, 2]\n"
     ]
    }
   ],
   "source": [
    "# variable_name[start_index : end_index + 1 : steps]\n",
    "\n",
    "# [::-1] : start from the end of the list, till the 0 index element and move at -1 step\n",
    "\n",
    "reversed = l1[::-1]\n",
    "print(reversed)"
   ]
  },
  {
   "cell_type": "code",
   "execution_count": 44,
   "id": "eb5e7602",
   "metadata": {},
   "outputs": [
    {
     "name": "stdout",
     "output_type": "stream",
     "text": [
      "[2, 4, 6, 8, 10, 12, 14, 16, 18, 20, 22, 24, 26, 28, 30, 32, 34, 36, 38, 40, 42, 44, 46, 48, 50, 52, 54, 56, 58, 60, 62, 64, 66, 68, 70, 72, 74, 76, 78, 80, 82, 84, 86, 88, 90, 92, 94, 96, 98, 100]\n"
     ]
    }
   ],
   "source": [
    "# By default it sorts it in ascending order\n",
    "ascending = sorted(l1)\n",
    "print(ascending)"
   ]
  },
  {
   "cell_type": "code",
   "execution_count": 45,
   "id": "bd4c5957",
   "metadata": {},
   "outputs": [
    {
     "name": "stdout",
     "output_type": "stream",
     "text": [
      "[100, 98, 96, 94, 92, 90, 88, 86, 84, 82, 80, 78, 76, 74, 72, 70, 68, 66, 64, 62, 60, 58, 56, 54, 52, 50, 48, 46, 44, 42, 40, 38, 36, 34, 32, 30, 28, 26, 24, 22, 20, 18, 16, 14, 12, 10, 8, 6, 4, 2]\n"
     ]
    }
   ],
   "source": [
    "# reverse = True is used with the sorted() in order to reverse the list\n",
    "descending = sorted(l1, reverse = True)\n",
    "print(descending)"
   ]
  },
  {
   "cell_type": "code",
   "execution_count": 46,
   "id": "91314e9f",
   "metadata": {},
   "outputs": [
    {
     "data": {
      "text/plain": [
       "21"
      ]
     },
     "execution_count": 46,
     "metadata": {},
     "output_type": "execute_result"
    }
   ],
   "source": [
    "# index() : Return the index number of a element.\n",
    "l1.index(44)"
   ]
  },
  {
   "cell_type": "code",
   "execution_count": 47,
   "id": "2d99d842",
   "metadata": {},
   "outputs": [
    {
     "name": "stdout",
     "output_type": "stream",
     "text": [
      "[2, 4, 6, 8, 10, 12, 14, 16, 18, 20, 22, 24, 26, 28, 30, 32, 34, 36, 38, 40, 42, 100, 46, 48, 50, 52, 54, 56, 58, 60, 62, 64, 66, 68, 70, 72, 74, 76, 78, 80, 82, 84, 86, 88, 90, 92, 94, 96, 98, 100]\n"
     ]
    }
   ],
   "source": [
    "l1[21] = 100\n",
    "print(l1)"
   ]
  },
  {
   "cell_type": "code",
   "execution_count": 48,
   "id": "a0e3fd68",
   "metadata": {},
   "outputs": [
    {
     "name": "stdout",
     "output_type": "stream",
     "text": [
      "[4, 16, 36, 64, 100, 144, 196, 256, 324, 400, 484, 576, 676, 784, 900, 1024, 1156, 1296, 1444, 1600, 1764, 10000, 2116, 2304, 2500, 2704, 2916, 3136, 3364, 3600, 3844, 4096, 4356, 4624, 4900, 5184, 5476, 5776, 6084, 6400, 6724, 7056, 7396, 7744, 8100, 8464, 8836, 9216, 9604, 10000]\n"
     ]
    }
   ],
   "source": [
    "l2 = []\n",
    "for i in l1:\n",
    "    l2.append(i*i)\n",
    "    \n",
    "print(l2)"
   ]
  },
  {
   "cell_type": "code",
   "execution_count": null,
   "id": "edc21897",
   "metadata": {},
   "outputs": [],
   "source": [
    "# Create a nested dictionary and perform the following operations.\n",
    "\n",
    "# a. Return a list with the key value pairs from the dictionary.\n",
    "# b. Return a list with just the keys from the dictionary.\n",
    "# c. Remove the first and last key value from the dictionary.\n",
    "# d. Update the last key value pair in the dictionary after removing in the 3rd step."
   ]
  },
  {
   "cell_type": "code",
   "execution_count": 9,
   "id": "d600235f",
   "metadata": {},
   "outputs": [
    {
     "name": "stdout",
     "output_type": "stream",
     "text": [
      "{'key1': {'key1a': 'Value1'}, 'key2': {'key2a': 'Value2'}, 'key3': {'key3a': 'Value3'}}\n"
     ]
    }
   ],
   "source": [
    "d1 = {\"key1\": {\"key1a\" : \"Value1\"},\n",
    "      \"key2\": {\"key2a\" : \"Value2\"},\n",
    "      \"key3\": {\"key3a\" : \"Value3\"}}\n",
    "print(d1)"
   ]
  },
  {
   "cell_type": "code",
   "execution_count": 10,
   "id": "7d2d0263",
   "metadata": {},
   "outputs": [
    {
     "data": {
      "text/plain": [
       "[('key1', {'key1a': 'Value1'}),\n",
       " ('key2', {'key2a': 'Value2'}),\n",
       " ('key3', {'key3a': 'Value3'})]"
      ]
     },
     "execution_count": 10,
     "metadata": {},
     "output_type": "execute_result"
    }
   ],
   "source": [
    "list(d1.items())"
   ]
  },
  {
   "cell_type": "code",
   "execution_count": 11,
   "id": "ee2e6ddf",
   "metadata": {},
   "outputs": [
    {
     "name": "stdout",
     "output_type": "stream",
     "text": [
      "['key1', 'key2', 'key3']\n"
     ]
    }
   ],
   "source": [
    "d1key = list(d1.keys())\n",
    "print(d1key)"
   ]
  },
  {
   "cell_type": "code",
   "execution_count": 12,
   "id": "cbec9951",
   "metadata": {},
   "outputs": [
    {
     "name": "stdout",
     "output_type": "stream",
     "text": [
      "{'key2': {'key2a': 'Value2'}, 'key3': {'key3a': 'Value3'}}\n"
     ]
    }
   ],
   "source": [
    "d1.pop(d1key[0])\n",
    "print(d1)"
   ]
  },
  {
   "cell_type": "code",
   "execution_count": 13,
   "id": "2f88dea6",
   "metadata": {},
   "outputs": [
    {
     "name": "stdout",
     "output_type": "stream",
     "text": [
      "{'key2': {'key2a': 'Value2'}}\n"
     ]
    }
   ],
   "source": [
    "d1.pop(d1key[-1])\n",
    "print(d1)"
   ]
  },
  {
   "cell_type": "code",
   "execution_count": 14,
   "id": "91f1a28e",
   "metadata": {},
   "outputs": [
    {
     "name": "stdout",
     "output_type": "stream",
     "text": [
      "{'key2': {'NewKey': 'Avinash'}}\n"
     ]
    }
   ],
   "source": [
    "d1['key2'] = {\"NewKey\" : \"Avinash\"}\n",
    "print(d1)"
   ]
  },
  {
   "cell_type": "code",
   "execution_count": 15,
   "id": "b5e66116",
   "metadata": {},
   "outputs": [],
   "source": [
    "# For the given strings A = “Python Programming Language”, B = “Best in the World” , perform the following operations.\n",
    "\n",
    "# a. Using indexing operations, get the text “gram” from the string A.\n",
    "# b. Using indexing operations, get the text “World” from the string B.\n",
    "# c. Change the letters in both strings to Uppercase letters.\n",
    "# d. Concatenate the two strings.\n",
    "\n",
    "A = \"Python Programming Language\"\n",
    "B = \"Best in the World\""
   ]
  },
  {
   "cell_type": "code",
   "execution_count": 16,
   "id": "68444dff",
   "metadata": {},
   "outputs": [
    {
     "data": {
      "text/plain": [
       "'gram'"
      ]
     },
     "execution_count": 16,
     "metadata": {},
     "output_type": "execute_result"
    }
   ],
   "source": [
    "A[10:14]"
   ]
  },
  {
   "cell_type": "code",
   "execution_count": 17,
   "id": "0a698815",
   "metadata": {},
   "outputs": [
    {
     "data": {
      "text/plain": [
       "'World'"
      ]
     },
     "execution_count": 17,
     "metadata": {},
     "output_type": "execute_result"
    }
   ],
   "source": [
    "B[12:17]"
   ]
  },
  {
   "cell_type": "code",
   "execution_count": 18,
   "id": "8a78415f",
   "metadata": {},
   "outputs": [
    {
     "data": {
      "text/plain": [
       "'PYTHON PROGRAMMING LANGUAGE'"
      ]
     },
     "execution_count": 18,
     "metadata": {},
     "output_type": "execute_result"
    }
   ],
   "source": [
    "A.upper()"
   ]
  },
  {
   "cell_type": "code",
   "execution_count": 19,
   "id": "83700bb9",
   "metadata": {},
   "outputs": [
    {
     "data": {
      "text/plain": [
       "'BEST IN THE WORLD'"
      ]
     },
     "execution_count": 19,
     "metadata": {},
     "output_type": "execute_result"
    }
   ],
   "source": [
    "B.upper()"
   ]
  },
  {
   "cell_type": "code",
   "execution_count": 22,
   "id": "7060904a",
   "metadata": {},
   "outputs": [
    {
     "name": "stdout",
     "output_type": "stream",
     "text": [
      "Python Programming Language Best in the World\n"
     ]
    }
   ],
   "source": [
    "print(A + \" \" + B)"
   ]
  },
  {
   "cell_type": "code",
   "execution_count": 26,
   "id": "4088b156",
   "metadata": {},
   "outputs": [
    {
     "name": "stdout",
     "output_type": "stream",
     "text": [
      "Enter the value of n10\n",
      "[0, 1, 2, 3, 4, 5, 6, 7, 8, 9]\n"
     ]
    }
   ],
   "source": [
    "# Create a list with n numbers, and using negative indexing return the list starting from the 5th index to the n-2th index.\n",
    "\n",
    "l2 = []\n",
    "n = int(input(\"Enter the value of n\"))\n",
    "for i in range(n):\n",
    "    l2.append(i)\n",
    "    \n",
    "print(l2)"
   ]
  },
  {
   "cell_type": "code",
   "execution_count": 29,
   "id": "d14c0ad2",
   "metadata": {},
   "outputs": [
    {
     "name": "stdout",
     "output_type": "stream",
     "text": [
      "[5, 10, 15, 20, 25, 30, 35, 40, 45, 50, 55, 60, 65, 70, 75, 80, 85, 90, 95]\n",
      "19\n"
     ]
    }
   ],
   "source": [
    "# Using range(), create a list with numbers ranging from 5-100, and the number of elements should be exactly 19.\n",
    "\n",
    "l3 = []\n",
    "for i in range(5,100,5):\n",
    "    l3.append(i)\n",
    "    \n",
    "print(l3)\n",
    "print(len(l3))"
   ]
  },
  {
   "cell_type": "code",
   "execution_count": null,
   "id": "3336f805",
   "metadata": {},
   "outputs": [],
   "source": []
  }
 ],
 "metadata": {
  "kernelspec": {
   "display_name": "Python 3 (ipykernel)",
   "language": "python",
   "name": "python3"
  },
  "language_info": {
   "codemirror_mode": {
    "name": "ipython",
    "version": 3
   },
   "file_extension": ".py",
   "mimetype": "text/x-python",
   "name": "python",
   "nbconvert_exporter": "python",
   "pygments_lexer": "ipython3",
   "version": "3.11.5"
  }
 },
 "nbformat": 4,
 "nbformat_minor": 5
}
