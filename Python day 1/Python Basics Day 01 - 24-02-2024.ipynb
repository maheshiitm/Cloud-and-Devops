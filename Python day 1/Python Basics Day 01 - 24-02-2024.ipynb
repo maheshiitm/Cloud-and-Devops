{
 "cells": [
  {
   "cell_type": "code",
   "execution_count": 1,
   "id": "84279ada",
   "metadata": {},
   "outputs": [],
   "source": [
    "# Day 01\n",
    "\n",
    "# Terminologies.\n",
    "# Variables\n",
    "# Operators\n",
    "\n",
    "# Day 02\n",
    "\n",
    "# Datatypes\n",
    "# Conditional Statements\n",
    "# Looping Statements\n",
    "# Functions\n",
    "\n",
    "# Day 03\n",
    "\n",
    "# Python Basics Hands-On"
   ]
  },
  {
   "cell_type": "code",
   "execution_count": 2,
   "id": "c9d57b27",
   "metadata": {},
   "outputs": [],
   "source": [
    "# Terminologies :\n",
    "\n",
    "# Syntax : it is the grammer of any programming language.It is the format that is to be followed while writing a program.\n",
    "# Keywords : certain words that has some predefined meaning in python.\n",
    "# Inbuilt Functions : The block of code that has some predefined task to perform. Eg: print()\n",
    "# Case Sensitivity : Uppercase letter and Lowercase letter are treated as two different entities. Eg: 'A' and 'a' are different.\n",
    "# Comments : Comments are not the part of the code, but they are used to explain the code. CTRL + / is the shortcut to comment.\n",
    "# Shift + Enter to Execute a line of code."
   ]
  },
  {
   "cell_type": "code",
   "execution_count": 3,
   "id": "cd787ca4",
   "metadata": {},
   "outputs": [
    {
     "name": "stdout",
     "output_type": "stream",
     "text": [
      "10\n"
     ]
    }
   ],
   "source": [
    "# Variables :\n",
    "\n",
    "# -> a storage container that holds some data.\n",
    "# -> a memory location that will be assigned with some values or information.\n",
    "\n",
    "# SYNTAX for defining a variable is :\n",
    "#     variable_name = value\n",
    "\n",
    "a = 10\n",
    "print(a)\n",
    "\n",
    "# a -> variable_name\n",
    "# = -> assignment operator\n",
    "# 10 -> value -> literal"
   ]
  },
  {
   "cell_type": "code",
   "execution_count": 4,
   "id": "d058a989",
   "metadata": {},
   "outputs": [
    {
     "name": "stdout",
     "output_type": "stream",
     "text": [
      "10\n",
      "20\n",
      "24.56\n",
      "Avinash\n",
      "Avinash\n",
      "1234\n",
      "Avinash20\n",
      "<class 'int'>\n",
      "<class 'int'>\n",
      "<class 'float'>\n",
      "<class 'str'>\n",
      "<class 'str'>\n",
      "<class 'str'>\n",
      "<class 'str'>\n"
     ]
    }
   ],
   "source": [
    "# Defining a variable :\n",
    "\n",
    "a = 10 # int : any numeric value without decimal point\n",
    "b = 20 # int : any numeric value without decimal point\n",
    "c = 24.56 # float : any numeric value with a decimal point\n",
    "d = \"Avinash\" # str : anything within \"\" or ''\n",
    "e = 'Avinash' # str : anything within \"\" or ''\n",
    "f = \"1234\" # str : anything within \"\" or ''\n",
    "g = \"Avinash20\" # str : anything within \"\" or ''\n",
    "\n",
    "# print() : inbuilt function that is used to display the output.\n",
    "\n",
    "print(a)\n",
    "print(b)\n",
    "print(c)\n",
    "print(d)\n",
    "print(e)\n",
    "print(f)\n",
    "print(g)\n",
    "\n",
    "# type() : inbuilt function that is used to determine the type of value stored in a variable.\n",
    "\n",
    "print(type(a))\n",
    "print(type(b))\n",
    "print(type(c))\n",
    "print(type(d))\n",
    "print(type(e))\n",
    "print(type(f))\n",
    "print(type(g))"
   ]
  },
  {
   "cell_type": "code",
   "execution_count": 5,
   "id": "a9f2cfe5",
   "metadata": {},
   "outputs": [],
   "source": [
    "# Rules to be followed while naming a variable :\n",
    "# 1. Keywords can't be used as a variable name.\n",
    "# 2. Variable name can start with a letter or an underscore(_) but never with a number.\n",
    "# 3. No special symbols or characters are allowed in a variable name except for underscore(_).\n",
    "\n",
    "# def = 123\n",
    "# print = 1234\n",
    "# print(print)\n",
    "\n",
    "avinash = 1234\n",
    "_aviansh = 1234\n",
    "# 1avinash = 1234\n",
    "avinash1 = 1234\n",
    "\n",
    "_aviansh = 1234\n",
    "avinash_ = 1234\n",
    "# &avinash = 1234\n",
    "# avi&nash = 1234"
   ]
  },
  {
   "cell_type": "code",
   "execution_count": 6,
   "id": "8750a32f",
   "metadata": {},
   "outputs": [],
   "source": [
    "# Assigning a value to a variable:\n",
    "\n",
    "# 1. Static Way -> value is assigned to the varaible while writing the program.\n",
    "\n",
    "a = 10 # integer : any numeric value without decimal point\n",
    "b = 20 # integer : any numeric value without decimal point\n",
    "c = 24.56 # float : any numeric value with a decimal point\n",
    "d = \"Avinash\" # str : anything within \"\" or ''\n",
    "e = 'Avinash' # str : anything within \"\" or ''\n",
    "f = \"1234\" # str : anything within \"\" or ''\n",
    "g = \"Avinash20\" # str : anything within \"\" or ''"
   ]
  },
  {
   "cell_type": "code",
   "execution_count": 12,
   "id": "73a21f6d",
   "metadata": {},
   "outputs": [
    {
     "name": "stdout",
     "output_type": "stream",
     "text": [
      "Enter the value of a :23\n",
      "Enter the value of b :77\n",
      "100\n"
     ]
    }
   ],
   "source": [
    "# 2. Dynamic Way -> value is assigned to the variable during the run time by the user.\n",
    "#     input() : inbuilt function that is used to fetch data from the user.\n",
    "#     SYNTAX: \n",
    "#         variable_name = input(\"message\")\n",
    "\n",
    "# Write a program to add two numbers :\n",
    "\n",
    "a = int(input(\"Enter the value of a :\"))\n",
    "b = int(input(\"Enter the value of b :\"))\n",
    "print(a+b)"
   ]
  },
  {
   "cell_type": "code",
   "execution_count": null,
   "id": "6dab8bbe",
   "metadata": {},
   "outputs": [],
   "source": [
    "# Operators\n",
    "\n",
    "# -> These are some symbols that perform some specific tasks.\n",
    "\n",
    "# There are seven types of operators in python :\n",
    "# 1. Arithmatic Operator : +, -, *, /, %, **\n",
    "# 2. Assignment Operator : =, +=, -=, *=, /=\n",
    "# 3. Comparison Operator : >, <, <=, >=, ==, !=\n",
    "# 4. Logical Operators : and, or, not\n",
    "# 5. Bitwise Operators : &, |, <<, >>\n",
    "# 6. Identity Operator : is, is not\n",
    "# 7. Membership Operator : in, not in"
   ]
  },
  {
   "cell_type": "code",
   "execution_count": 1,
   "id": "b9d7d7d6",
   "metadata": {},
   "outputs": [
    {
     "name": "stdout",
     "output_type": "stream",
     "text": [
      "150\n",
      "50\n",
      "5000\n",
      "2.0\n",
      "0\n",
      "10000000000000000000000000000000000000000000000000000000000000000000000000000000000000000000000000000\n"
     ]
    }
   ],
   "source": [
    "# 1. Arithmatic Operator : \n",
    "\n",
    "# + -> Addition\n",
    "# - -> Substraction\n",
    "# * -> Multiplication\n",
    "# / -> Division\n",
    "# % -> Modulus : Return the remainder of the division.\n",
    "# ** -> Exponential : a to the power of b\n",
    "\n",
    "x = 100\n",
    "y = 50\n",
    "\n",
    "print(x + y) # 150\n",
    "print(x - y) # 50\n",
    "print(x * y) # 5000\n",
    "print(x / y) # 2.0 because division always return value in float\n",
    "print(x % y) # 0\n",
    "print(x ** y) # 100 power of 50"
   ]
  },
  {
   "cell_type": "code",
   "execution_count": 3,
   "id": "f1e43d37",
   "metadata": {},
   "outputs": [
    {
     "name": "stdout",
     "output_type": "stream",
     "text": [
      "10\n",
      "20\n",
      "10\n",
      "100\n",
      "10.0\n"
     ]
    }
   ],
   "source": [
    "# 2. Assignment Operator : =, +=, -=, *=, /=\n",
    "\n",
    "a = 10\n",
    "print(a)\n",
    "\n",
    "a += 10 # a = a + 10 \n",
    "print(a) # 20\n",
    "a -= 10 # a = a - 10\n",
    "print(a) # 10\n",
    "a *= 10 # a = a * 10\n",
    "print(a) # 100\n",
    "a /= 10 # a = a / 10\n",
    "print(a) # 10.0"
   ]
  },
  {
   "cell_type": "code",
   "execution_count": 7,
   "id": "866fe18e",
   "metadata": {},
   "outputs": [
    {
     "name": "stdout",
     "output_type": "stream",
     "text": [
      "False\n",
      "False\n",
      "True\n",
      "True\n",
      "True\n",
      "False\n"
     ]
    }
   ],
   "source": [
    "# 3. Comparison Operator : \n",
    "\n",
    "# -> The comparison operator is used to compare between two entities.\n",
    "# -> The comparison operator always returns either True or False\n",
    "\n",
    "# >, <, <=, >=, ==, !=\n",
    "\n",
    "p = 50\n",
    "q = 50\n",
    "\n",
    "print(p>q) # False\n",
    "print(p<q) # False\n",
    "print(p>=q) # true\n",
    "print(p<=q) # true\n",
    "print(p==q) # True\n",
    "print(p!=q) # False"
   ]
  },
  {
   "cell_type": "code",
   "execution_count": null,
   "id": "9f819356",
   "metadata": {},
   "outputs": [],
   "source": []
  }
 ],
 "metadata": {
  "kernelspec": {
   "display_name": "Python 3 (ipykernel)",
   "language": "python",
   "name": "python3"
  },
  "language_info": {
   "codemirror_mode": {
    "name": "ipython",
    "version": 3
   },
   "file_extension": ".py",
   "mimetype": "text/x-python",
   "name": "python",
   "nbconvert_exporter": "python",
   "pygments_lexer": "ipython3",
   "version": "3.11.5"
  }
 },
 "nbformat": 4,
 "nbformat_minor": 5
}
