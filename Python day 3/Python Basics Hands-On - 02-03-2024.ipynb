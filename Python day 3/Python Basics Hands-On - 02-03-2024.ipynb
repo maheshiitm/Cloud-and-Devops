{
 "cells": [
  {
   "cell_type": "code",
   "execution_count": null,
   "id": "0d4d55c4",
   "metadata": {},
   "outputs": [],
   "source": [
    "# Q2. Open a new python file and import the Module.py file.\n",
    "\n",
    "# a. Now call the 4 methods from the Module.py file, i.e., addition(), subtraction(),multiplication(), and division()."
   ]
  },
  {
   "cell_type": "code",
   "execution_count": null,
   "id": "0b1b333f",
   "metadata": {},
   "outputs": [],
   "source": [
    "from Intellipaat import *"
   ]
  },
  {
   "cell_type": "code",
   "execution_count": 1,
   "id": "c1e064e4",
   "metadata": {},
   "outputs": [
    {
     "ename": "NameError",
     "evalue": "name 'Addition' is not defined",
     "output_type": "error",
     "traceback": [
      "\u001b[1;31m---------------------------------------------------------------------------\u001b[0m",
      "\u001b[1;31mNameError\u001b[0m                                 Traceback (most recent call last)",
      "Cell \u001b[1;32mIn[1], line 1\u001b[0m\n\u001b[1;32m----> 1\u001b[0m \u001b[43mAddition\u001b[49m(\u001b[38;5;241m10\u001b[39m,\u001b[38;5;241m20\u001b[39m)\n",
      "\u001b[1;31mNameError\u001b[0m: name 'Addition' is not defined"
     ]
    }
   ],
   "source": [
    "Addition(10,20)"
   ]
  },
  {
   "cell_type": "code",
   "execution_count": null,
   "id": "e31ffe01",
   "metadata": {},
   "outputs": [],
   "source": [
    "Substraction(10,20)"
   ]
  },
  {
   "cell_type": "code",
   "execution_count": null,
   "id": "4b8f8d42",
   "metadata": {},
   "outputs": [],
   "source": [
    "Multiplication(10,20)"
   ]
  },
  {
   "cell_type": "code",
   "execution_count": null,
   "id": "7be55b22",
   "metadata": {},
   "outputs": [],
   "source": [
    "Division(10,20)"
   ]
  },
  {
   "cell_type": "code",
   "execution_count": null,
   "id": "8fd81ecf",
   "metadata": {},
   "outputs": [],
   "source": [
    "# Q3. From the Module file, import only the addition() and pass the arguments so that it can\n",
    "# display the result from the method."
   ]
  },
  {
   "cell_type": "code",
   "execution_count": 2,
   "id": "add17c6b",
   "metadata": {},
   "outputs": [],
   "source": [
    "from Intellipaat import Addition"
   ]
  },
  {
   "cell_type": "code",
   "execution_count": 3,
   "id": "c94bd3e4",
   "metadata": {},
   "outputs": [
    {
     "name": "stdout",
     "output_type": "stream",
     "text": [
      "30\n"
     ]
    }
   ],
   "source": [
    "Addition(10,20)"
   ]
  },
  {
   "cell_type": "code",
   "execution_count": 4,
   "id": "c325424c",
   "metadata": {},
   "outputs": [
    {
     "ename": "NameError",
     "evalue": "name 'Substraction' is not defined",
     "output_type": "error",
     "traceback": [
      "\u001b[1;31m---------------------------------------------------------------------------\u001b[0m",
      "\u001b[1;31mNameError\u001b[0m                                 Traceback (most recent call last)",
      "Cell \u001b[1;32mIn[4], line 1\u001b[0m\n\u001b[1;32m----> 1\u001b[0m \u001b[43mSubstraction\u001b[49m(\u001b[38;5;241m10\u001b[39m,\u001b[38;5;241m20\u001b[39m)\n",
      "\u001b[1;31mNameError\u001b[0m: name 'Substraction' is not defined"
     ]
    }
   ],
   "source": [
    "Substraction(10,20)"
   ]
  },
  {
   "cell_type": "code",
   "execution_count": 5,
   "id": "fd7c89bd",
   "metadata": {},
   "outputs": [
    {
     "ename": "NameError",
     "evalue": "name 'Multiplication' is not defined",
     "output_type": "error",
     "traceback": [
      "\u001b[1;31m---------------------------------------------------------------------------\u001b[0m",
      "\u001b[1;31mNameError\u001b[0m                                 Traceback (most recent call last)",
      "Cell \u001b[1;32mIn[5], line 1\u001b[0m\n\u001b[1;32m----> 1\u001b[0m \u001b[43mMultiplication\u001b[49m(\u001b[38;5;241m10\u001b[39m,\u001b[38;5;241m20\u001b[39m)\n",
      "\u001b[1;31mNameError\u001b[0m: name 'Multiplication' is not defined"
     ]
    }
   ],
   "source": [
    "Multiplication(10,20)"
   ]
  },
  {
   "cell_type": "code",
   "execution_count": 6,
   "id": "aed23f25",
   "metadata": {},
   "outputs": [
    {
     "ename": "NameError",
     "evalue": "name 'Division' is not defined",
     "output_type": "error",
     "traceback": [
      "\u001b[1;31m---------------------------------------------------------------------------\u001b[0m",
      "\u001b[1;31mNameError\u001b[0m                                 Traceback (most recent call last)",
      "Cell \u001b[1;32mIn[6], line 1\u001b[0m\n\u001b[1;32m----> 1\u001b[0m \u001b[43mDivision\u001b[49m(\u001b[38;5;241m10\u001b[39m,\u001b[38;5;241m20\u001b[39m)\n",
      "\u001b[1;31mNameError\u001b[0m: name 'Division' is not defined"
     ]
    }
   ],
   "source": [
    "Division(10,20)"
   ]
  },
  {
   "cell_type": "code",
   "execution_count": null,
   "id": "7db3daa4",
   "metadata": {},
   "outputs": [],
   "source": [
    "# Q5. From the Module file, import both the multiplication() and division() and pass the arguments so that it can display \n",
    "# the result from the methods."
   ]
  },
  {
   "cell_type": "code",
   "execution_count": 1,
   "id": "2a6aa8c5",
   "metadata": {},
   "outputs": [],
   "source": [
    "from Intellipaat import Multiplication,Division"
   ]
  },
  {
   "cell_type": "code",
   "execution_count": 2,
   "id": "b3be35b9",
   "metadata": {},
   "outputs": [
    {
     "ename": "NameError",
     "evalue": "name 'Addition' is not defined",
     "output_type": "error",
     "traceback": [
      "\u001b[1;31m---------------------------------------------------------------------------\u001b[0m",
      "\u001b[1;31mNameError\u001b[0m                                 Traceback (most recent call last)",
      "Cell \u001b[1;32mIn[2], line 1\u001b[0m\n\u001b[1;32m----> 1\u001b[0m \u001b[43mAddition\u001b[49m(\u001b[38;5;241m10\u001b[39m,\u001b[38;5;241m20\u001b[39m)\n",
      "\u001b[1;31mNameError\u001b[0m: name 'Addition' is not defined"
     ]
    }
   ],
   "source": [
    "Addition(10,20)"
   ]
  },
  {
   "cell_type": "code",
   "execution_count": 3,
   "id": "101b029c",
   "metadata": {},
   "outputs": [
    {
     "ename": "NameError",
     "evalue": "name 'Substraction' is not defined",
     "output_type": "error",
     "traceback": [
      "\u001b[1;31m---------------------------------------------------------------------------\u001b[0m",
      "\u001b[1;31mNameError\u001b[0m                                 Traceback (most recent call last)",
      "Cell \u001b[1;32mIn[3], line 1\u001b[0m\n\u001b[1;32m----> 1\u001b[0m \u001b[43mSubstraction\u001b[49m(\u001b[38;5;241m10\u001b[39m,\u001b[38;5;241m20\u001b[39m)\n",
      "\u001b[1;31mNameError\u001b[0m: name 'Substraction' is not defined"
     ]
    }
   ],
   "source": [
    "Substraction(10,20)"
   ]
  },
  {
   "cell_type": "code",
   "execution_count": 4,
   "id": "7415e5b9",
   "metadata": {},
   "outputs": [
    {
     "name": "stdout",
     "output_type": "stream",
     "text": [
      "200\n"
     ]
    }
   ],
   "source": [
    "Multiplication(10,20)"
   ]
  },
  {
   "cell_type": "code",
   "execution_count": 5,
   "id": "2f7634d2",
   "metadata": {},
   "outputs": [
    {
     "name": "stdout",
     "output_type": "stream",
     "text": [
      "0.5\n"
     ]
    }
   ],
   "source": [
    "Division(10,20)"
   ]
  },
  {
   "cell_type": "code",
   "execution_count": null,
   "id": "76e08672",
   "metadata": {},
   "outputs": [],
   "source": [
    "# Q6. Create a python if-else program :\n",
    "    \n",
    "# a. check if the given numbers are greater or not\n",
    "# b. check whether the given number is an armstrong number or not, and \n",
    "# c. check whether the given number is a prime number or not. \n",
    "\n",
    "# Make use of python if-else, and elif statements for the same."
   ]
  },
  {
   "cell_type": "code",
   "execution_count": 18,
   "id": "05e00bcc",
   "metadata": {},
   "outputs": [
    {
     "name": "stdout",
     "output_type": "stream",
     "text": [
      "Enter a value to check an armstring number : 1234\n",
      "The value of num is : 1234\n",
      "The value of num is : 123\n",
      "The value of num is : 12\n",
      "The value of num is : 1\n",
      "The value of num is : 0\n",
      "Not Armstrong\n"
     ]
    }
   ],
   "source": [
    "# Armstrong Number\n",
    "\n",
    "sum = 0\n",
    "num = int(input(\"Enter a value to check an armstring number : \"))\n",
    "temp = num\n",
    "print(\"The value of num is :\", num)\n",
    "stringnum = str(num) # 153 => \"153\" ----> stringnum\n",
    "lengthofnum = len(stringnum)\n",
    "while(num > 0):\n",
    "    digit  = num % 10\n",
    "    cube = digit**lengthofnum\n",
    "    sum = sum + cube\n",
    "    num = num // 10\n",
    "    print(\"The value of num is :\", num)\n",
    "    \n",
    "if(temp == sum):\n",
    "    print(\"Armstrong\")\n",
    "else:\n",
    "    print(\"Not Armstrong\")\n",
    "    \n",
    "    \n",
    "# while(num > 0)   digit    cube    sum    num \n",
    "#    True            3       27      27     15\n",
    "#    True            5       125     152    1\n",
    "#    True            1       1       153    Garbage Value(-ve)\n",
    "#    False ------> Exit Condition\n",
    "\n",
    "# 153 == 153\n",
    "\n",
    "# Armstrong"
   ]
  },
  {
   "cell_type": "code",
   "execution_count": null,
   "id": "2ae7a746",
   "metadata": {},
   "outputs": [],
   "source": [
    "# 153 = 1**3 + 5**3 + 3**3 == 153 ------> Armstrong number\n",
    "# 1234 = 1**4 + 2**4 + 3**4 + 4**4 == 1234  ----------> Not Armstrong number\n",
    "\n",
    "# Find the number of digits => num -> str(num) ----> stringnum ------> len(stringnum) ------> lengthstringnum  \n",
    "# To keep a copy of num so that we can compare it later. temp = num\n",
    "# Until and Unless the number is less than 0 zero run the loop\n",
    "    # 1. I have to extract the indivisual digits. num % 10 -------> last digit\n",
    "    # 2. I have to cube each digits (indiviual_digit to the power of total number of digits) last_digit**lengthstringnum ------> power\n",
    "    # 3. I have to add all of it together. sum = 0 -----> sum + power -----> sum\n",
    "    # 4. I have to remove the last digit. num // 10 ------> num \n",
    "# Compare the original number with sum to check if armstrong number or not. temp == sum \n",
    "\n",
    "# 153\n",
    "# 15\n",
    "# 1\n",
    "# 0\n",
    "# 3 -----> 3**3 -----> 27 -------> 27 ------> 15\n",
    "# 5 -----> 5**3 -----> 125 ------> 152 -----> 1\n",
    "# 1 -----> 1**3 -----> 1 --------> 153 -----> 0\n",
    "# 0 ------> Stop the loop\n",
    "\n",
    "# 123 => \"123\" # Chnaging the data type"
   ]
  }
 ],
 "metadata": {
  "kernelspec": {
   "display_name": "Python 3 (ipykernel)",
   "language": "python",
   "name": "python3"
  },
  "language_info": {
   "codemirror_mode": {
    "name": "ipython",
    "version": 3
   },
   "file_extension": ".py",
   "mimetype": "text/x-python",
   "name": "python",
   "nbconvert_exporter": "python",
   "pygments_lexer": "ipython3",
   "version": "3.11.5"
  }
 },
 "nbformat": 4,
 "nbformat_minor": 5
}
